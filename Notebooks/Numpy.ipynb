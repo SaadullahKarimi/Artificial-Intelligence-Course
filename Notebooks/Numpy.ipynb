{
 "cells": [
  {
   "cell_type": "code",
   "execution_count": 1,
   "id": "f189d6eb",
   "metadata": {},
   "outputs": [],
   "source": [
    "# نسبت داده شده است'\"hello world\"' تعریف شده است و به آن رشته ای به نام 'mystring' در این کد یک متغیر به نام \n",
    "\n",
    "mystring = \"hello world\""
   ]
  },
  {
   "cell_type": "code",
   "execution_count": 2,
   "id": "15c9feb8",
   "metadata": {},
   "outputs": [],
   "source": [
    "# تعریف شده است و به آن یک لیست یا(آرایه) نسبت 'mylist' در این کد یک متغیر به نام\n",
    "# به ترتیب 1,2,3,4,5 است(integers) داده شده است که شامل پنج عدد صحیح \n",
    "\n",
    "mylist = [1,2,3,4,5]"
   ]
  },
  {
   "cell_type": "code",
   "execution_count": 3,
   "id": "5ab14412",
   "metadata": {},
   "outputs": [
    {
     "data": {
      "text/plain": [
       "'hello worldhello worldhello worldhello world'"
      ]
     },
     "execution_count": 3,
     "metadata": {},
     "output_type": "execute_result"
    }
   ],
   "source": [
    "# ذخیره شده که به تعداد 4 بار 'mystring' این کد به معنای تکرار رشته ای است که در متغیر\n",
    "# است\n",
    "\n",
    "mystring * 4"
   ]
  },
  {
   "cell_type": "code",
   "execution_count": 4,
   "id": "22757e53",
   "metadata": {},
   "outputs": [
    {
     "data": {
      "text/plain": [
       "[1, 2, 3, 4, 5, 1, 2, 3, 4, 5, 1, 2, 3, 4, 5, 1, 2, 3, 4, 5]"
      ]
     },
     "execution_count": 4,
     "metadata": {},
     "output_type": "execute_result"
    }
   ],
   "source": [
    "# به تعداد 4 بار است 'mylist' این کد به معنای تکرار لیست \n",
    "\n",
    "mylist * 4"
   ]
  },
  {
   "cell_type": "code",
   "execution_count": 5,
   "id": "fa98ec45",
   "metadata": {},
   "outputs": [],
   "source": [
    "# داده شده است 'np' (alias) است و به آن نام مستعار'numpy' به معنای وارد کردن کتابخانه 'import numpy as np' عبارت \n",
    "\n",
    "import numpy as np"
   ]
  },
  {
   "cell_type": "code",
   "execution_count": 12,
   "id": "15b335a5",
   "metadata": {},
   "outputs": [],
   "source": [
    "# ایجاد می کند که شامل 12 عدد صحیح تصادفی بین 1 و 99 است 'myarr' به نام (array) این کد یک آرایه \n",
    "\n",
    "myarr = np.random.randint(low=1, high=100, size=12)"
   ]
  },
  {
   "cell_type": "code",
   "execution_count": 13,
   "id": "20355962",
   "metadata": {},
   "outputs": [
    {
     "data": {
      "text/plain": [
       "array([29, 33, 83, 24, 76, 19, 94,  9, 46, 33, 72, 93])"
      ]
     },
     "execution_count": 13,
     "metadata": {},
     "output_type": "execute_result"
    }
   ],
   "source": [
    "# یک آرایه است که می تواند یک بعدی یا چند بعدی باشد'myarr'\n",
    "\n",
    "myarr"
   ]
  },
  {
   "cell_type": "code",
   "execution_count": 14,
   "id": "040bc87c",
   "metadata": {},
   "outputs": [
    {
     "data": {
      "text/plain": [
       "array([29, 33, 83, 24, 76])"
      ]
     },
     "execution_count": 14,
     "metadata": {},
     "output_type": "execute_result"
    }
   ],
   "source": [
    "# '[0:5]' نام یک لیست یا آرایه است و 'myarr' در اینجا \n",
    "# را از اندیس 0 تا 4 بر می گرداند'myarr' نشان دهده محدوده ای است که می خواهیم از آن استخراج کنیم. یعنی عناصر \n",
    "\n",
    "myarr[0:5]"
   ]
  },
  {
   "cell_type": "code",
   "execution_count": 15,
   "id": "37fc5d0c",
   "metadata": {},
   "outputs": [],
   "source": [
    "# 4x12 این کد یک آرایه دو بعدی با ابعاد\n",
    "# تولید می کند که شامل اعداد صحیح تصادفی بین 1 و 99 است\n",
    "\n",
    "myarr = np.random.randint(low=1, high=100, size=(4,12))"
   ]
  },
  {
   "cell_type": "code",
   "execution_count": 17,
   "id": "6457575c",
   "metadata": {},
   "outputs": [
    {
     "data": {
      "text/plain": [
       "array([[83, 19,  6, 17, 74, 41, 55, 81, 89, 39, 64, 87],\n",
       "       [31, 41, 51, 39, 54, 26, 26, 98, 67, 78, 25,  1],\n",
       "       [60, 41, 42, 43, 47, 57, 38, 34, 59, 98, 12, 94],\n",
       "       [ 5, 55, 20, 32, 99, 32, 26, 86, 41, 52, 41, 54]])"
      ]
     },
     "execution_count": 17,
     "metadata": {},
     "output_type": "execute_result"
    }
   ],
   "source": [
    "myarr"
   ]
  },
  {
   "cell_type": "code",
   "execution_count": 19,
   "id": "31b7a2a4",
   "metadata": {},
   "outputs": [
    {
     "data": {
      "text/plain": [
       "array([[83, 19,  6, 17],\n",
       "       [74, 41, 55, 81],\n",
       "       [89, 39, 64, 87],\n",
       "       [31, 41, 51, 39],\n",
       "       [54, 26, 26, 98],\n",
       "       [67, 78, 25,  1],\n",
       "       [60, 41, 42, 43],\n",
       "       [47, 57, 38, 34],\n",
       "       [59, 98, 12, 94],\n",
       "       [ 5, 55, 20, 32],\n",
       "       [99, 32, 26, 86],\n",
       "       [41, 52, 41, 54]])"
      ]
     },
     "execution_count": 19,
     "metadata": {},
     "output_type": "execute_result"
    }
   ],
   "source": [
    "# به ابعاد جدیدی است که شامل 12 ردیف و 4 ستون می باشد 'myarr' این کد به معنای تغییر شکل آرایه ای به نام \n",
    "myarr.reshape(12,4)"
   ]
  },
  {
   "cell_type": "code",
   "execution_count": 20,
   "id": "d86ed143",
   "metadata": {},
   "outputs": [
    {
     "data": {
      "text/plain": [
       "2360"
      ]
     },
     "execution_count": 20,
     "metadata": {},
     "output_type": "execute_result"
    }
   ],
   "source": [
    "# این کد مجموعه تمام عناصر در آرایه را محاسبه می کند و نتیجه را بر می گرداند\n",
    "\n",
    "np.sum(myarr)"
   ]
  },
  {
   "cell_type": "code",
   "execution_count": 25,
   "id": "616ad112",
   "metadata": {},
   "outputs": [
    {
     "data": {
      "text/plain": [
       "99"
      ]
     },
     "execution_count": 25,
     "metadata": {},
     "output_type": "execute_result"
    }
   ],
   "source": [
    "# است 'myarr' این کد به معنای پیدا کردن بزرگترین مقدار در آرایه ای به نام \n",
    "\n",
    "np.max(myarr)"
   ]
  },
  {
   "cell_type": "code",
   "execution_count": 22,
   "id": "f4d3d6e9",
   "metadata": {},
   "outputs": [
    {
     "data": {
      "text/plain": [
       "1"
      ]
     },
     "execution_count": 22,
     "metadata": {},
     "output_type": "execute_result"
    }
   ],
   "source": [
    "# است 'myarr' این کد به معنای پیدا کردن کمترین مقدار در آرایه ای به نام \n",
    "\n",
    "np.min(myarr)"
   ]
  },
  {
   "cell_type": "code",
   "execution_count": 26,
   "id": "a2abca20",
   "metadata": {},
   "outputs": [
    {
     "data": {
      "text/plain": [
       "array([179, 156, 119, 131, 274, 156, 145, 299, 256, 267, 142, 236])"
      ]
     },
     "execution_count": 26,
     "metadata": {},
     "output_type": "execute_result"
    }
   ],
   "source": [
    "# را محاسبه می کند 'myarr' این کد مجموعه عناصر هر ستون از آرایه \n",
    "\n",
    "np.sum(myarr, axis=0)"
   ]
  },
  {
   "cell_type": "code",
   "execution_count": 28,
   "id": "5d812819",
   "metadata": {},
   "outputs": [
    {
     "data": {
      "text/plain": [
       "array([655, 537, 625, 543])"
      ]
     },
     "execution_count": 28,
     "metadata": {},
     "output_type": "execute_result"
    }
   ],
   "source": [
    "# این کد به این معنا که مجموعه عناصر در امتداد محور افقی (ستون ها) محاسبه می شود\n",
    "\n",
    "np.sum(myarr, axis=1)"
   ]
  },
  {
   "cell_type": "code",
   "execution_count": 30,
   "id": "6e70710d",
   "metadata": {},
   "outputs": [
    {
     "data": {
      "text/plain": [
       "array([83, 55, 51, 43, 99, 57, 55, 98, 89, 98, 64, 94])"
      ]
     },
     "execution_count": 30,
     "metadata": {},
     "output_type": "execute_result"
    }
   ],
   "source": [
    "# به این معنا که ما می خواهیم حداکثر مقادیر را در امتداد محور عمودی(ستون ها) محاسبه کنیم'axis=0'\n",
    "\n",
    "np.max(myarr, axis=0)"
   ]
  },
  {
   "cell_type": "code",
   "execution_count": 39,
   "id": "c4fc7c89",
   "metadata": {},
   "outputs": [
    {
     "data": {
      "text/plain": [
       "array([89, 98, 98, 99])"
      ]
     },
     "execution_count": 39,
     "metadata": {},
     "output_type": "execute_result"
    }
   ],
   "source": [
    "# به این معنا که ما می خواهیم حداکثر مقادیر را در امتداد محور افقی(ستون ها) محاسبه کنیم'axis=1'\n",
    "\n",
    "np.max(myarr, axis=1)"
   ]
  },
  {
   "cell_type": "code",
   "execution_count": 41,
   "id": "ddf65362",
   "metadata": {},
   "outputs": [],
   "source": [
    "# هم زوج هستند و هم بزرگتر از 50'myarr'این کد یک آرایه بولی تولید می کند که نشان می دهد کدام عناصر آرایه\n",
    "# خواهد بود'True' اگر هم زوج و هم بزرگتر از 50 بود نتیجه \n",
    "\n",
    "even_mask = (myarr % 2 == 0) & (myarr > 50)"
   ]
  },
  {
   "cell_type": "code",
   "execution_count": 42,
   "id": "eecd44e2",
   "metadata": {
    "scrolled": true
   },
   "outputs": [
    {
     "data": {
      "text/plain": [
       "array([[False, False, False, False,  True, False, False, False, False,\n",
       "        False,  True, False],\n",
       "       [False, False, False, False,  True, False, False,  True, False,\n",
       "         True, False, False],\n",
       "       [ True, False, False, False, False, False, False, False, False,\n",
       "         True, False,  True],\n",
       "       [False, False, False, False, False, False, False,  True, False,\n",
       "         True, False,  True]])"
      ]
     },
     "execution_count": 42,
     "metadata": {},
     "output_type": "execute_result"
    }
   ],
   "source": [
    "#،یک آرایه بولی باشد، می تواند برای هر عنصر در یک آرایه دیگر'even_mask'اگر \n",
    "#را داشته باشد'False'و در غیر آن 'True' اگر آن عنصر زوج باشد، مقدار \n",
    "\n",
    "even_mask"
   ]
  },
  {
   "cell_type": "code",
   "execution_count": 43,
   "id": "67a9c116",
   "metadata": {},
   "outputs": [
    {
     "data": {
      "text/plain": [
       "array([74, 64, 54, 98, 78, 60, 98, 94, 86, 52, 54])"
      ]
     },
     "execution_count": 43,
     "metadata": {},
     "output_type": "execute_result"
    }
   ],
   "source": [
    "# برابر با'even_mask'را که در 'myarr' این عملکرد به شما اجازه می دهد تا فقط عناصری از\n",
    "# هستند، انتخاب کنید 'True'\n",
    "\n",
    "myarr[even_mask]"
   ]
  },
  {
   "cell_type": "code",
   "execution_count": 44,
   "id": "a24be605",
   "metadata": {},
   "outputs": [],
   "source": [
    "# این کد بررسی می کند که آیا عناصر آخرین ستون یک آرایه به صورت زوج هستند یا خیر\n",
    "\n",
    "even_mask = myarr[0:,-1] % 2 == 0"
   ]
  },
  {
   "cell_type": "code",
   "execution_count": 45,
   "id": "89fef8e7",
   "metadata": {},
   "outputs": [
    {
     "data": {
      "text/plain": [
       "array([False, False,  True,  True])"
      ]
     },
     "execution_count": 45,
     "metadata": {},
     "output_type": "execute_result"
    }
   ],
   "source": [
    "#را نشان می دهد'myarr'یک آرایه بولی است که وضعیت زوج بودن عناصر آخرین ستون آرایه'even_mask'\n",
    "\n",
    "even_mask"
   ]
  },
  {
   "cell_type": "code",
   "execution_count": 46,
   "id": "cbe7c48b",
   "metadata": {},
   "outputs": [
    {
     "data": {
      "text/plain": [
       "array([[60, 41, 42, 43, 47, 57, 38, 34, 59, 98, 12, 94],\n",
       "       [ 5, 55, 20, 32, 99, 32, 26, 86, 41, 52, 41, 54]])"
      ]
     },
     "execution_count": 46,
     "metadata": {},
     "output_type": "execute_result"
    }
   ],
   "source": [
    "#دارند انتخاب می کند'True'مقدار'even_mask'که در 'myarr'این کد سطرهایی از\n",
    "\n",
    "myarr[even_mask, 0:]"
   ]
  }
 ],
 "metadata": {
  "kernelspec": {
   "display_name": "Python 3 (ipykernel)",
   "language": "python",
   "name": "python3"
  },
  "language_info": {
   "codemirror_mode": {
    "name": "ipython",
    "version": 3
   },
   "file_extension": ".py",
   "mimetype": "text/x-python",
   "name": "python",
   "nbconvert_exporter": "python",
   "pygments_lexer": "ipython3",
   "version": "3.9.12"
  }
 },
 "nbformat": 4,
 "nbformat_minor": 5
}
